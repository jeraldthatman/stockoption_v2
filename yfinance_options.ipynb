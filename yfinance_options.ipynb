{
 "cells": [
  {
   "cell_type": "code",
   "execution_count": 1,
   "metadata": {},
   "outputs": [],
   "source": [
    "import yfinance as yf \n",
    "import pandas as pd "
   ]
  },
  {
   "cell_type": "code",
   "execution_count": 29,
   "metadata": {},
   "outputs": [
    {
     "data": {
      "text/plain": [
       "yfinance.ticker.Ticker"
      ]
     },
     "execution_count": 29,
     "metadata": {},
     "output_type": "execute_result"
    }
   ],
   "source": [
    "aapl =  yf.Ticker('aapl')\n",
    "type(aapl)\n"
   ]
  },
  {
   "cell_type": "markdown",
   "metadata": {},
   "source": [
    "# Download options faster using this method"
   ]
  },
  {
   "cell_type": "code",
   "execution_count": 22,
   "metadata": {},
   "outputs": [
    {
     "data": {
      "text/plain": [
       "2"
      ]
     },
     "execution_count": 22,
     "metadata": {},
     "output_type": "execute_result"
    }
   ],
   "source": [
    "# nearest expiration\n",
    "c = aapl.option_chain()\n",
    "print(f'Length of Calls: {len(c[0])}')\n",
    "print(f'Length of Puts: {len(c[1])}')\n"
   ]
  },
  {
   "cell_type": "code",
   "execution_count": 64,
   "metadata": {},
   "outputs": [],
   "source": [
    "# all expirations \n",
    "expiry = aapl.options\n",
    "calls = []\n",
    "puts = []\n",
    "for i in expiry:\n",
    "    call, put = aapl.option_chain(i)\n",
    "    calls.append(call)\n",
    "    puts.append(put)\n",
    "\n",
    "call_options = pd.concat([i for i in calls])\n",
    "put_options = pd.concat([j for j in puts ])\n",
    "all_options = pd.concat([call_options, put_options])"
   ]
  },
  {
   "cell_type": "code",
   "execution_count": 65,
   "metadata": {},
   "outputs": [
    {
     "name": "stdout",
     "output_type": "stream",
     "text": [
      "Calls length:  868\n",
      "Puts length:  796\n",
      "All data length:  1664\n"
     ]
    }
   ],
   "source": [
    "# length of each \n",
    "print('Calls length: ',len(call_options))\n",
    "print('Puts length: ', len(put_options))\n",
    "print('All data length: ', len(all_options))"
   ]
  },
  {
   "cell_type": "markdown",
   "metadata": {},
   "source": [
    "# Gathering the Options data\n",
    "-----------------------------------\n",
    "This method takes about 6 seconds. It returns a list of lists, so that each item in the full_chain list is a lists that include calls and puts for the specified expiration date. further, we can concatenate each of the calls and puts using list comprehension. We dont need to be cautious of the order of expiration dates, or whether or not the list contain calls or puts here, since each contract has a unique contract symbol and that information will be derived later. We want to gather the data quickly, and only the columns that we need to preserve memory. The structure of full_chain is listed below. \n",
    "\n",
    "full_chain -> [exp_1, exp_2, exp_3, ......] <n>\n",
    "                    exp_1 -> data frame object with classes of calls, and puts. "
   ]
  },
  {
   "cell_type": "code",
   "execution_count": 112,
   "metadata": {},
   "outputs": [],
   "source": [
    "%timeit\n",
    "symb = 'spy'\n",
    "tick = yf.Ticker(symb)\n",
    "exp = tick.options\n",
    "full_chain = [tick.option_chain(i) for i in exp]\n"
   ]
  },
  {
   "cell_type": "code",
   "execution_count": 126,
   "metadata": {},
   "outputs": [
    {
     "name": "stdout",
     "output_type": "stream",
     "text": [
      "The length of the concatenated data frame is: 6,622\n"
     ]
    }
   ],
   "source": [
    "#for i in full_chain: # i = expiration dates\n",
    "out = []\n",
    "for i in range(len(exp)):\n",
    "    out.append(pd.concat([full_chain[i][0], full_chain[i][1]]))\n",
    "\n",
    "df = pd.concat([i for i in out])\n",
    "print(f'The length of the concatenated data frame is: {len(df):,.0f}')"
   ]
  },
  {
   "cell_type": "code",
   "execution_count": null,
   "metadata": {},
   "outputs": [],
   "source": []
  }
 ],
 "metadata": {
  "interpreter": {
   "hash": "ee8f712fe58a2a1e8e7343d3189c469d59f4822b637ab3b767b226c4ae987255"
  },
  "kernelspec": {
   "display_name": "Python 3.9.7 ('dsenv')",
   "language": "python",
   "name": "python3"
  },
  "language_info": {
   "codemirror_mode": {
    "name": "ipython",
    "version": 3
   },
   "file_extension": ".py",
   "mimetype": "text/x-python",
   "name": "python",
   "nbconvert_exporter": "python",
   "pygments_lexer": "ipython3",
   "version": "3.9.7"
  },
  "orig_nbformat": 4
 },
 "nbformat": 4,
 "nbformat_minor": 2
}
